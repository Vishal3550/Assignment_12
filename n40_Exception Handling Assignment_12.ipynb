{
 "cells": [
  {
   "cell_type": "markdown",
   "id": "d7fec1d2-1ab2-45a7-b3a6-dbd9b16a43ec",
   "metadata": {},
   "source": [
    "Exception_Handling_1"
   ]
  },
  {
   "cell_type": "code",
   "execution_count": 2,
   "id": "b0d4d44d-100d-4463-817d-9ef9e26611e1",
   "metadata": {},
   "outputs": [
    {
     "ename": "SyntaxError",
     "evalue": "expected ':' (496022661.py, line 11)",
     "output_type": "error",
     "traceback": [
      "\u001b[0;36m  Cell \u001b[0;32mIn[2], line 11\u001b[0;36m\u001b[0m\n\u001b[0;31m    if(amount > 2999)\u001b[0m\n\u001b[0m                     ^\u001b[0m\n\u001b[0;31mSyntaxError\u001b[0m\u001b[0;31m:\u001b[0m expected ':'\n"
     ]
    }
   ],
   "source": [
    "# Q1. What is an Exception in python? Write the difference between Exceptions and syntax errors.\n",
    "\n",
    "# Answer:-Errors are the problems in a program due to which the program will stop the execution. \n",
    "#         On the other hand, exceptions are raised when some internal events occur which changes the normal flow of the program. \n",
    "\n",
    "# * Syntax Error: As the name suggests this error is caused by the wrong syntax in the code. It leads to the termination of the program. \n",
    "\n",
    "# Example: \n",
    "amount = 10000\n",
    " \n",
    "if(amount > 2999)\n",
    "print(\"You are eligible to purchase Dsa Self Paced\")"
   ]
  },
  {
   "cell_type": "code",
   "execution_count": 3,
   "id": "d82b1a14-1075-4af6-80f8-d6a546961bb0",
   "metadata": {},
   "outputs": [
    {
     "ename": "ZeroDivisionError",
     "evalue": "division by zero",
     "output_type": "error",
     "traceback": [
      "\u001b[0;31m---------------------------------------------------------------------------\u001b[0m",
      "\u001b[0;31mZeroDivisionError\u001b[0m                         Traceback (most recent call last)",
      "Cell \u001b[0;32mIn[3], line 8\u001b[0m\n\u001b[1;32m      1\u001b[0m \u001b[38;5;66;03m# Exceptions: Exceptions are raised when the program is syntactically correct, but the code results in an error. \u001b[39;00m\n\u001b[1;32m      2\u001b[0m \u001b[38;5;66;03m#             This error does not stop the execution of the program, however, it changes the normal flow of the program.\u001b[39;00m\n\u001b[1;32m      3\u001b[0m \n\u001b[1;32m      4\u001b[0m \u001b[38;5;66;03m#  Example:\u001b[39;00m\n\u001b[1;32m      6\u001b[0m marks \u001b[38;5;241m=\u001b[39m \u001b[38;5;241m10000\u001b[39m\n\u001b[0;32m----> 8\u001b[0m a \u001b[38;5;241m=\u001b[39m \u001b[43mmarks\u001b[49m\u001b[43m \u001b[49m\u001b[38;5;241;43m/\u001b[39;49m\u001b[43m \u001b[49m\u001b[38;5;241;43m0\u001b[39;49m\n\u001b[1;32m      9\u001b[0m \u001b[38;5;28mprint\u001b[39m(a)\n",
      "\u001b[0;31mZeroDivisionError\u001b[0m: division by zero"
     ]
    }
   ],
   "source": [
    "# Exceptions: Exceptions are raised when the program is syntactically correct, but the code results in an error. \n",
    "#             This error does not stop the execution of the program, however, it changes the normal flow of the program.\n",
    "\n",
    "#  Example:\n",
    "\n",
    "marks = 10000\n",
    " \n",
    "a = marks / 0\n",
    "print(a)"
   ]
  },
  {
   "cell_type": "code",
   "execution_count": 4,
   "id": "c28c83e4-2a04-4c96-9686-b796bf4b0d78",
   "metadata": {},
   "outputs": [
    {
     "ename": "SyntaxError",
     "evalue": "Missing parentheses in call to 'print'. Did you mean print(...)? (40156366.py, line 15)",
     "output_type": "error",
     "traceback": [
      "\u001b[0;36m  Cell \u001b[0;32mIn[4], line 15\u001b[0;36m\u001b[0m\n\u001b[0;31m    print KelvinToFahrenheit(273)\u001b[0m\n\u001b[0m    ^\u001b[0m\n\u001b[0;31mSyntaxError\u001b[0m\u001b[0;31m:\u001b[0m Missing parentheses in call to 'print'. Did you mean print(...)?\n"
     ]
    }
   ],
   "source": [
    "# Q2.What happends when an exception is not handled? Explain with an example.\n",
    "\n",
    "# Answer:-If the assertion fails, Python uses ArgumentExpression as the argument for the AssertionError. \n",
    "#         AssertionError exceptions can be caught and handled like any other exception using the try-except statement, \n",
    "#         but if not handled, they will terminate the program and produce a traceback.\n",
    "\n",
    "# Example:-\n",
    "# Here is a function that converts a temperature from degrees Kelvin to degrees Fahrenheit. \n",
    "# Since zero degrees Kelvin is as cold as it gets, the function bails out if it sees a negative temperature\n",
    "\n",
    "#!/usr/bin/python\n",
    "def KelvinToFahrenheit(Temperature):\n",
    "   assert (Temperature >= 0),\"Colder than absolute zero!\"\n",
    "   return ((Temperature-273)*1.8)+32\n",
    "print KelvinToFahrenheit(273)\n",
    "print int(KelvinToFahrenheit(505.78))\n",
    "print KelvinToFahrenheit(-5)"
   ]
  },
  {
   "cell_type": "code",
   "execution_count": 5,
   "id": "b86ac781-6b82-4836-9477-3b95bea286d1",
   "metadata": {},
   "outputs": [
    {
     "name": "stdout",
     "output_type": "stream",
     "text": [
      "Index Out of Bound.\n"
     ]
    }
   ],
   "source": [
    "# Q3. Which Python statements are used to catch and handle exceptions? Explain with an example.\n",
    "\n",
    "# Ans:-For each try block, there can be zero or more except blocks. Multiple except blocks allow us to handle each exception differently.\n",
    "#      The argument type of each except block indicates the type of exception that can be handled by it. \n",
    "# example:-\n",
    "try:\n",
    "    \n",
    "    even_numbers = [2,4,6,8]\n",
    "    print(even_numbers[5])\n",
    "\n",
    "except ZeroDivisionError:\n",
    "    print(\"Denominator cannot be 0.\")\n",
    "    \n",
    "except IndexError:\n",
    "    print(\"Index Out of Bound.\")"
   ]
  },
  {
   "cell_type": "code",
   "execution_count": 6,
   "id": "df7e9d89-c1ef-42c5-a31e-7b13d6db13c6",
   "metadata": {},
   "outputs": [
    {
     "name": "stdin",
     "output_type": "stream",
     "text": [
      "Enter a number:  34\n"
     ]
    },
    {
     "name": "stdout",
     "output_type": "stream",
     "text": [
      "0.029411764705882353\n"
     ]
    }
   ],
   "source": [
    "# Q4. Explain with an example:\n",
    "    \n",
    "#     a. try and else\n",
    "\n",
    "try:\n",
    "    num = int(input(\"Enter a number: \"))\n",
    "    assert num % 2 == 0\n",
    "except:\n",
    "    print(\"Not an even number!\")\n",
    "else:\n",
    "    reciprocal = 1/num\n",
    "    print(reciprocal)"
   ]
  },
  {
   "cell_type": "code",
   "execution_count": 7,
   "id": "a6b32b9a-c10d-4a81-904d-d94886afb603",
   "metadata": {},
   "outputs": [
    {
     "name": "stdout",
     "output_type": "stream",
     "text": [
      "Error: Denominator cannot be 0.\n",
      "This is finally block.\n"
     ]
    }
   ],
   "source": [
    "#     b. finally\n",
    "\n",
    "try:\n",
    "    numerator = 10\n",
    "    denominator = 0\n",
    "\n",
    "    result = numerator/denominator\n",
    "\n",
    "    print(result)\n",
    "except:\n",
    "    print(\"Error: Denominator cannot be 0.\")\n",
    "    \n",
    "finally:\n",
    "    print(\"This is finally block.\")"
   ]
  },
  {
   "cell_type": "code",
   "execution_count": 8,
   "id": "b95a6ae5-eb1c-4442-b07e-afa6535572b4",
   "metadata": {},
   "outputs": [
    {
     "ename": "Exception",
     "evalue": "Sorry, no numbers below zero",
     "output_type": "error",
     "traceback": [
      "\u001b[0;31m---------------------------------------------------------------------------\u001b[0m",
      "\u001b[0;31mException\u001b[0m                                 Traceback (most recent call last)",
      "Cell \u001b[0;32mIn[8], line 6\u001b[0m\n\u001b[1;32m      3\u001b[0m x \u001b[38;5;241m=\u001b[39m \u001b[38;5;241m-\u001b[39m\u001b[38;5;241m1\u001b[39m\n\u001b[1;32m      5\u001b[0m \u001b[38;5;28;01mif\u001b[39;00m x \u001b[38;5;241m<\u001b[39m \u001b[38;5;241m0\u001b[39m:\n\u001b[0;32m----> 6\u001b[0m   \u001b[38;5;28;01mraise\u001b[39;00m \u001b[38;5;167;01mException\u001b[39;00m(\u001b[38;5;124m\"\u001b[39m\u001b[38;5;124mSorry, no numbers below zero\u001b[39m\u001b[38;5;124m\"\u001b[39m)\n",
      "\u001b[0;31mException\u001b[0m: Sorry, no numbers below zero"
     ]
    }
   ],
   "source": [
    "#     c. raise\n",
    "\n",
    "x = -1\n",
    "\n",
    "if x < 0:\n",
    "  raise Exception(\"Sorry, no numbers below zero\")"
   ]
  },
  {
   "cell_type": "code",
   "execution_count": 9,
   "id": "a5e6245c-f157-4983-a5cb-9968cb5408df",
   "metadata": {},
   "outputs": [
    {
     "name": "stdout",
     "output_type": "stream",
     "text": [
      "This is my custom exception\n"
     ]
    }
   ],
   "source": [
    "# Q5. What are Custom Exceptions in python? Why do we need custom Exceptions? Explain with an example.\n",
    "\n",
    "# Answer:-In Python, we can define custom exceptions by creating a new class that is derived from the built-in Exception class.\n",
    "\n",
    "#syntax :-\n",
    "\n",
    "#       class CustomError(Exception):\n",
    "#           ...\n",
    "#          pass\n",
    "\n",
    "#       try:\n",
    "#          ...\n",
    "\n",
    "#       except CustomError:\n",
    "#          ...\n",
    "\n",
    "#    CustomError is a user-defined error which inherits from the Exception class.\n",
    "\n",
    "#  * When we are developing a large Python program, it is a good practice to place all the user-defined exceptions \n",
    "#    that our program raises in a separate file.\n",
    "#  * Many standard modules define their exceptions separately as exceptions.py or errors.py (generally but not always).\n",
    "\n",
    "class CustomException(Exception):\n",
    "    \"\"\" my custom exception class \"\"\"\n",
    "\n",
    "\n",
    "try:\n",
    "    raise CustomException('This is my custom exception')\n",
    "except CustomException as ex:\n",
    "    print(ex)"
   ]
  },
  {
   "cell_type": "code",
   "execution_count": 10,
   "id": "65e810e2-abfc-455f-aea8-6089494713d0",
   "metadata": {},
   "outputs": [
    {
     "name": "stdout",
     "output_type": "stream",
     "text": [
      "This is my custom exception\n"
     ]
    }
   ],
   "source": [
    "# Q6.Create a custom exception class. Use this class to handle an exception.\n",
    "\n",
    "class CustomException(Exception):\n",
    "    \"\"\" my custom exception class \"\"\"\n",
    "\n",
    "\n",
    "try:\n",
    "    raise CustomException('This is my custom exception')\n",
    "except CustomException as ex:\n",
    "    print(ex)"
   ]
  },
  {
   "cell_type": "code",
   "execution_count": null,
   "id": "67127e1f-4fb6-4e3f-892e-b72311f195ee",
   "metadata": {},
   "outputs": [],
   "source": []
  }
 ],
 "metadata": {
  "kernelspec": {
   "display_name": "Python 3 (ipykernel)",
   "language": "python",
   "name": "python3"
  },
  "language_info": {
   "codemirror_mode": {
    "name": "ipython",
    "version": 3
   },
   "file_extension": ".py",
   "mimetype": "text/x-python",
   "name": "python",
   "nbconvert_exporter": "python",
   "pygments_lexer": "ipython3",
   "version": "3.10.8"
  }
 },
 "nbformat": 4,
 "nbformat_minor": 5
}
